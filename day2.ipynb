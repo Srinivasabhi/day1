{
  "cells": [
    {
      "cell_type": "code",
      "execution_count": null,
      "metadata": {
        "colab": {
          "base_uri": "https://localhost:8080/",
          "height": 106
        },
        "id": "RHa1zHfilub4",
        "outputId": "151ddbe9-c5b5-4d24-ad5d-6f9e107fc88a"
      },
      "outputs": [
        {
          "ename": "IndentationError",
          "evalue": "unindent does not match any outer indentation level (<tokenize>, line 10)",
          "output_type": "error",
          "traceback": [
            "\u001b[0;36m  File \u001b[0;32m\"<tokenize>\"\u001b[0;36m, line \u001b[0;32m10\u001b[0m\n\u001b[0;31m    else:\u001b[0m\n\u001b[0m    ^\u001b[0m\n\u001b[0;31mIndentationError\u001b[0m\u001b[0;31m:\u001b[0m unindent does not match any outer indentation level\n"
          ]
        }
      ],
      "source": [
        "acc_no = int(input(\"Plese enter account no: \"))\n",
        "acc_bal =float(input(\"plese enter account bal: \"))\n",
        "print(f\"your acciunt no{acc_no} and your account bal is{acc_bal}\")\n",
        "with_amt = float(input(\"plese enter amount to withdraw: \"))\n",
        "if acc_no == 123:\n",
        "  if acc_bal<+0:\n",
        "   print(\"plese enter correct withdraw amount...\")\n",
        "  elif with_amt>acc_bal:\n",
        "     print(\"Insuffent balance...\")\n",
        "   else:\n",
        "       print(\"plese collect your cash...\")\n",
        "       new_bal = acc_bal-with_amt\n",
        "       print(f\"your new balance is {new_bal}\")\n",
        "  else:\n",
        "         print(\"plese enter correct account no...\")\n",
        "except valueError:\n",
        "         print(\"Invalid input . Plese enter a valid number. \")\n"
      ]
    },
    {
      "cell_type": "code",
      "execution_count": null,
      "metadata": {
        "colab": {
          "background_save": true
        },
        "id": "i9SAD1lK4Tsu"
      },
      "outputs": [],
      "source": [
        "l1 = {1,2,3,\"plkiofdvj\",\"Harsha\"}"
      ]
    },
    {
      "cell_type": "code",
      "execution_count": null,
      "metadata": {
        "id": "hyV4rS8G4iiu"
      },
      "outputs": [],
      "source": []
    }
  ],
  "metadata": {
    "colab": {
      "provenance": []
    },
    "kernelspec": {
      "display_name": "Python 3",
      "name": "python3"
    },
    "language_info": {
      "name": "python"
    }
  },
  "nbformat": 4,
  "nbformat_minor": 0
}